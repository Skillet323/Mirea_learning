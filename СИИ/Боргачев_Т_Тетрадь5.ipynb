{
  "cells": [
    {
      "cell_type": "markdown",
      "metadata": {
        "id": "1GCH6PpEGe1N"
      },
      "source": [
        "1.3.1 Задание:\n",
        "Создайте класс по работе с тригонометрическими функциями. В классе\n",
        "должны быть реализованы функции вычисления:\n",
        "− косинуса;\n",
        "− синуса;\n",
        "− тангенса;\n",
        "− арксинуса;\n",
        "− арккосинуса;\n",
        "− арктангенса;\n",
        "− перевода из градусов в радианы.\n"
      ]
    },
    {
      "cell_type": "code",
      "execution_count": 22,
      "metadata": {
        "colab": {
          "base_uri": "https://localhost:8080/"
        },
        "id": "P0VWfHrWGlXg",
        "outputId": "90ff2a14-f1c1-40f0-a0f5-e10617d6c1d1"
      },
      "outputs": [
        {
          "name": "stdout",
          "output_type": "stream",
          "text": [
            "Введенное значение: 72.0\n",
            "Введенное значение: 0.52435\n",
            "cos = 0.309\n",
            "sin = 0.951\n",
            "tg = 3.078\n",
            "arctg = 27.67\n",
            "arccos = 58.376\n",
            "arcsin = 31.624\n",
            "In radians = 1.257\n"
          ]
        }
      ],
      "source": [
        "import numpy as np\n",
        "import math as m\n",
        "class triga:\n",
        "    def __init__(self, deg1):\n",
        "        self.deg = deg1\n",
        "        print(\"Введенное значение:\", deg1)\n",
        "    def cos(self):\n",
        "        return round(m.cos(np.deg2rad(self.deg)),3)\n",
        "    def sin(self):\n",
        "        return round(m.sin(np.deg2rad(self.deg)),3)\n",
        "    def tg(self):\n",
        "        return round(m.tan(np.deg2rad(self.deg)),3)\n",
        "    def arctg(self):\n",
        "        return round(m.atan(self.deg)*180/m.pi,3)\n",
        "    def arccos(self):\n",
        "        if (-1<=self.deg<=1):\n",
        "            return round(m.acos(self.deg)*180/m.pi,3)\n",
        "        else: return \"Неверное значения\"\n",
        "    def arcsin(self):\n",
        "        if (-1<=self.deg<=1):\n",
        "            return round(m.asin(self.deg)*180/m.pi,3)\n",
        "        else: return \"Неверное значения\"\n",
        "    def into(self):\n",
        "        return round((self.deg*m.pi)/180,3)\n",
        "d1=triga(float(input(\"Градусы: \")))\n",
        "x1=triga(float(input(\"значение для arc функций: \")))\n",
        "\n",
        "print(\"cos =\", d1.cos())\n",
        "print(\"sin =\", d1.sin())\n",
        "print(\"tg =\", d1.tg())\n",
        "print(\"arctg =\", x1.arctg())\n",
        "print(\"arccos =\", x1.arccos())\n",
        "print(\"arcsin =\", x1.arcsin())\n",
        "print(\"In radians =\", d1.into())\n",
        "\n"
      ]
    },
    {
      "cell_type": "markdown",
      "metadata": {},
      "source": [
        "1.4.1 Задание\n",
        "Представьте дерево показанное на рисунке с использованием списка из\n",
        "списков. Выведите на печать корень дерева, а также его левое и правое\n",
        "поддеревья.\n",
        "![alt text](image-1.jpg)"
      ]
    },
    {
      "cell_type": "code",
      "execution_count": 53,
      "metadata": {},
      "outputs": [
        {
          "name": "stdout",
          "output_type": "stream",
          "text": [
            "Корень: a\n",
            "Левое поддерево: b d e\n",
            "Правое поддерево: c f\n"
          ]
        }
      ],
      "source": [
        "Tree=['a',[['b',['d','e']],['c',['f']]]]\n",
        "print(\"Корень:\", Tree[0][0])\n",
        "print(\"Левое поддерево:\",Tree[1][0][0],Tree[1][0][1][0],Tree[1][0][1][1])\n",
        "print(\"Правое поддерево:\",Tree[1][1][0],Tree[1][1][1][0])"
      ]
    },
    {
      "cell_type": "markdown",
      "metadata": {
        "id": "fSnOF3_DHhWn"
      },
      "source": [
        "1.4.2 Задание:\n",
        "Дан класс, описывающий бинарное дерево.\n",
        "class Tree:\n",
        " def __init__(self, data):\n",
        " self.left = None\n",
        " self.right = None\n",
        " self.data = data\n",
        " def PrintTree(self):\n",
        " print(self.data)\n",
        "Реализуйте в классе функцию для вставки нового элемента в дерево по\n",
        "следующим правилам:\n",
        "• Левое поддерево узла содержит только узлы со значениями меньше,\n",
        "чем значение в узле.\n",
        "• Правое поддерево узла содержит только узлы со значениями меньше,\n",
        "чем значение в узле.\n",
        "• Каждое из левого и правого поддеревьев также должно быть\n",
        "бинарным деревом поиска.\n",
        "• Не должно быть повторяющихся узлов.\n",
        "Метод вставки сравнивает значение узла с родительским узлом и решает\n",
        "куда добавить элемент (в левое или правое поддерево). Перепишите метод\n",
        "PrintTree для печати полной версии дерева.\n"
      ]
    },
    {
      "cell_type": "code",
      "execution_count": 66,
      "metadata": {
        "colab": {
          "base_uri": "https://localhost:8080/"
        },
        "id": "QGxIyEjeH6Dn",
        "outputId": "42f37bd6-3a65-464c-9a30-9a84dc44ed00"
      },
      "outputs": [
        {
          "name": "stdout",
          "output_type": "stream",
          "text": [
            "11243\n",
            "-75\n",
            "-78\n",
            "-80\n",
            "-82\n",
            "-90\n",
            "-95\n",
            "-100\n",
            "-85\n",
            "-87\n",
            "-81\n",
            "-45\n",
            "-69\n",
            "-73\n",
            "-74\n",
            "-72\n",
            "-63\n",
            "-67\n",
            "-61\n",
            "-46\n",
            "70\n",
            "47\n",
            "41\n",
            "8\n",
            "-18\n",
            "-25\n",
            "-36\n",
            "-38\n",
            "-39\n",
            "-44\n",
            "-27\n",
            "-26\n",
            "-23\n",
            "-7\n",
            "-15\n",
            "-17\n",
            "-8\n",
            "-4\n",
            "-5\n",
            "7\n",
            "3\n",
            "2\n",
            "27\n",
            "21\n",
            "19\n",
            "10\n",
            "9\n",
            "15\n",
            "20\n",
            "25\n",
            "22\n",
            "34\n",
            "32\n",
            "29\n",
            "31\n",
            "36\n",
            "40\n",
            "42\n",
            "59\n",
            "52\n",
            "51\n",
            "57\n",
            "64\n",
            "62\n",
            "61\n",
            "80\n",
            "79\n",
            "73\n",
            "78\n",
            "74\n",
            "101\n",
            "94\n",
            "88\n",
            "85\n",
            "92\n",
            "100\n",
            "99\n",
            "98\n"
          ]
        }
      ],
      "source": [
        "import random\n",
        "class Tree:\n",
        "    def __init__(self, data):\n",
        "        self.left = None\n",
        "        self.right = None\n",
        "        self.data = data\n",
        "    def PrintTree(self):\n",
        "        print(self.data)\n",
        "        if self.left:\n",
        "            self.left.PrintTree()\n",
        "        if self.right:\n",
        "            self.right.PrintTree()\n",
        "    def Insert(self,data1):\n",
        "        if data1 < self.data:\n",
        "            if self.left:\n",
        "                self.left.Insert(data1)\n",
        "            else:\n",
        "                self.left = Tree(data1)\n",
        "        elif data1 > self.data:\n",
        "            if self.right:\n",
        "                self.right.Insert(data1)\n",
        "            else:\n",
        "                self.right = Tree(data1)\n",
        "\n",
        "            \n",
        "t=Tree(11243)\n",
        "for i in range(100):\n",
        "    t.Insert(random.randint(-100,101))\n",
        "t.PrintTree()\n"
      ]
    },
    {
      "cell_type": "markdown",
      "metadata": {
        "id": "YW4sctrBIwXb"
      },
      "source": [
        "1.5.1 Задание\n",
        "Задача:\n",
        "Постройте классификатор на основе дерева принятия решений\n",
        "следующего датасета:\n"
      ]
    },
    {
      "cell_type": "code",
      "execution_count": 293,
      "metadata": {
        "colab": {
          "base_uri": "https://localhost:8080/"
        },
        "id": "AUZVZ2ZlJGib",
        "outputId": "ff472a79-dd09-4312-f496-f369f2844c7e"
      },
      "outputs": [
        {
          "name": "stdout",
          "output_type": "stream",
          "text": [
            "[[2 0]\n",
            " [0 1]]\n",
            "              precision    recall  f1-score   support\n",
            "\n",
            "           0       1.00      1.00      1.00         2\n",
            "           1       1.00      1.00      1.00         1\n",
            "\n",
            "    accuracy                           1.00         3\n",
            "   macro avg       1.00      1.00      1.00         3\n",
            "weighted avg       1.00      1.00      1.00         3\n",
            "\n"
          ]
        }
      ],
      "source": [
        "import pandas as pd\n",
        "import numpy as np\n",
        "import matplotlib.pyplot as plt\n",
        "import seaborn as sns\n",
        "from sklearn import tree\n",
        "from sklearn.model_selection import train_test_split\n",
        "from sklearn.tree import DecisionTreeClassifier\n",
        "from sklearn.metrics import classification_report, confusion_matrix\n",
        "# dataset = sns.load_dataset('iris')\n",
        "# X_train, x_test, Y_train, y_test = train_test_split(\n",
        "#     dataset.iloc[:,:-1],\n",
        "#     dataset.iloc[:,-1],\n",
        "#     test_size=20\n",
        "# )\n",
        "# Classifier= DecisionTreeClassifier()\n",
        "# Classifier.fit(X_train,Y_train)\n",
        "# y_pred=Classifier.predict(x_test)\n",
        "\n",
        "# print(confusion_matrix(y_test,y_pred))\n",
        "# print(classification_report(y_test,y_pred))\n",
        "X=np.array([[-1,-1],[-2,-1],[-3,-2],[1,1],[2,1],[3,2]])\n",
        "target=[0,0,0,1,1,1]\n",
        "X_train, x_test, Y_train, y_test = train_test_split(\n",
        "    X,\n",
        "    target,\n",
        "    test_size=3\n",
        ")\n",
        "# X_train=([X[1],X[3],X[5]])\n",
        "# x_test=([X[0],X[2],X[4]])\n",
        "# Y_train=([target[1],target[3],target[5]])\n",
        "# y_test=([target[0],target[2],target[4]])\n",
        "Classifier= DecisionTreeClassifier()\n",
        "Classifier.fit(X_train,Y_train)\n",
        "y_pred=Classifier.predict(x_test)\n",
        "\n",
        "print(confusion_matrix(y_test,y_pred))\n",
        "print(classification_report(y_test,y_pred))"
      ]
    },
    {
      "cell_type": "markdown",
      "metadata": {
        "id": "PSJ2ajmcKScv"
      },
      "source": [
        "1.6.1 Задание\n",
        "Задача:\n",
        "Задание. Постройте модель регрессии для данных из предыдущей рабочей\n",
        "тетради.Для примера можно взять потребления газа (в миллионах\n",
        "галлонов) в 48 штатах США или набор данных о качестве красного вина:\n",
        "https://raw.githubusercontent.com/likarajo/petrol_consumption/master/data/pet\n",
        "rol_consumption.csv\n",
        "https://raw.githubusercontent.com/aniruddhachoudhury/Red-WineQuality/master/winequality-red.csv\n",
        "Постройте прогноз. Оцените точность модели."
      ]
    },
    {
      "cell_type": "code",
      "execution_count": 320,
      "metadata": {
        "colab": {
          "base_uri": "https://localhost:8080/"
        },
        "id": "tcIpBs8JKXqB",
        "outputId": "cd3ff7e1-700b-4ce8-f336-dca9f81354a7"
      },
      "outputs": [
        {
          "name": "stdout",
          "output_type": "stream",
          "text": [
            "      Actual  Predicted\n",
            "913        7        6.0\n",
            "1525       5        5.0\n",
            "940        7        7.0\n",
            "638        7        6.0\n",
            "1333       5        6.0\n",
            "...      ...        ...\n",
            "790        6        5.0\n",
            "292        6        6.0\n",
            "1282       6        6.0\n",
            "737        6        5.0\n",
            "182        5        5.0\n",
            "\n",
            "[320 rows x 2 columns]\n",
            "Mean Squared Error: 0.528125\n",
            "Mean Absolute Error: 0.403125\n"
          ]
        },
        {
          "data": {
            "image/png": "[encoded data removed]",
            "text/plain": [
              "<Figure size 640x480 with 1 Axes>"
            ]
          },
          "metadata": {},
          "output_type": "display_data"
        },
        {
          "data": {
            "image/png": "[encoded data removed]",
            "text/plain": [
              "<Figure size 640x480 with 1 Axes>"
            ]
          },
          "metadata": {},
          "output_type": "display_data"
        },
        {
          "data": {
            "image/png": "[encoded data removed]",
            "text/plain": [
              "<Figure size 640x480 with 1 Axes>"
            ]
          },
          "metadata": {},
          "output_type": "display_data"
        }
      ],
      "source": [
        "import pandas as pd\n",
        "import numpy as np\n",
        "import matplotlib.pyplot as plt\n",
        "import seaborn as sns\n",
        "from sklearn import tree\n",
        "from sklearn.model_selection import train_test_split\n",
        "from sklearn.tree import DecisionTreeRegressor\n",
        "from sklearn import metrics\n",
        "url =\"https://raw.githubusercontent.com/aniruddhachoudhury/Red-Wine-Quality/master/winequality-red.csv\"\n",
        "dataset = pd.read_csv(url)\n",
        "X = dataset.iloc[:,:-1]\n",
        "Y = dataset.iloc[:,-1]\n",
        "X_train, x_test, Y_train, y_test = train_test_split(\n",
        "    X,\n",
        "    Y,\n",
        "    test_size=0.2\n",
        ")\n",
        "regressor= DecisionTreeRegressor()\n",
        "regressor.fit(X_train,Y_train)\n",
        "y_pred = regressor.predict(x_test)\n",
        "df = pd.DataFrame({'Actual':y_test,'Predicted': y_pred})\n",
        "# lin=np.linalg.lstsq(X,Y,rcond=None)[0]\n",
        "# print(lin)\n",
        "print(df)\n",
        "print('Mean Squared Error:', metrics.mean_squared_error(y_test, y_pred)) \n",
        "print('Mean Absolute Error:', metrics.mean_absolute_error(y_test, y_pred))\n",
        "for i in (1,4,7):\n",
        "    plt.scatter(x_test.iloc[:,i],y_pred,color='blue' )\n",
        "    plt.scatter(x_test.iloc[:,i], y_test, color='red',marker='*')\n",
        "    plt.show()"
      ]
    }
  ],
  "metadata": {
    "colab": {
      "provenance": []
    },
    "kernelspec": {
      "display_name": "Python 3",
      "name": "python3"
    },
    "language_info": {
      "codemirror_mode": {
        "name": "ipython",
        "version": 3
      },
      "file_extension": ".py",
      "mimetype": "text/x-python",
      "name": "python",
      "nbconvert_exporter": "python",
      "pygments_lexer": "ipython3",
      "version": "3.11.8"
    }
  },
  "nbformat": 4,
  "nbformat_minor": 0
}
