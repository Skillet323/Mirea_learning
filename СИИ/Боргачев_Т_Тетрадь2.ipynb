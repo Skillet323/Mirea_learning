{
  "cells": [
    {
      "cell_type": "markdown",
      "metadata": {
        "id": "1GCH6PpEGe1N"
      },
      "source": [
        "1.3.1 Задание\n",
        "Создать 8x8 матрицу и заполнить её в шахматном порядке нулями и\n",
        "единицами."
      ]
    },
    {
      "cell_type": "code",
      "execution_count": 83,
      "metadata": {
        "colab": {
          "base_uri": "https://localhost:8080/"
        },
        "id": "P0VWfHrWGlXg",
        "outputId": "90ff2a14-f1c1-40f0-a0f5-e10617d6c1d1"
      },
      "outputs": [
        {
          "name": "stdout",
          "output_type": "stream",
          "text": [
            "[[0 1 0 1 0 1 0 1]\n",
            " [1 0 1 0 1 0 1 0]\n",
            " [0 1 0 1 0 1 0 1]\n",
            " [1 0 1 0 1 0 1 0]\n",
            " [0 1 0 1 0 1 0 1]\n",
            " [1 0 1 0 1 0 1 0]\n",
            " [0 1 0 1 0 1 0 1]\n",
            " [1 0 1 0 1 0 1 0]]\n"
          ]
        }
      ],
      "source": [
        "import numpy as np\n",
        "#Решение\n",
        "x=np.ones((8,8)).astype(int)\n",
        "for i in range(0,8,2):\n",
        "    for j in range(0,8,2):\n",
        "        x[i][j] = 0\n",
        "        x[i+1][j+1] = 0\n",
        "print(x)"
      ]
    },
    {
      "cell_type": "markdown",
      "metadata": {
        "id": "fSnOF3_DHhWn"
      },
      "source": [
        "1.3.2 Задание\n",
        "Создать 5x5 матрицу со значениями в строках от 0 до 4. Для создания\n",
        "необходимо использовать функцию arange"
      ]
    },
    {
      "cell_type": "code",
      "execution_count": 44,
      "metadata": {
        "colab": {
          "base_uri": "https://localhost:8080/"
        },
        "id": "QGxIyEjeH6Dn",
        "outputId": "42f37bd6-3a65-464c-9a30-9a84dc44ed00"
      },
      "outputs": [
        {
          "name": "stdout",
          "output_type": "stream",
          "text": [
            "[[0 1 2 3 4]\n",
            " [0 1 2 3 4]\n",
            " [0 1 2 3 4]\n",
            " [0 1 2 3 4]\n",
            " [0 1 2 3 4]]\n"
          ]
        }
      ],
      "source": [
        "import numpy as np\n",
        "#Решение\n",
        "x = np.arange(25).reshape(5,5)\n",
        "for i in range (1,5):\n",
        "    for j in range(5):\n",
        "        x[i][j] = x[0][j] \n",
        "print(x)"
      ]
    },
    {
      "cell_type": "markdown",
      "metadata": {
        "id": "YW4sctrBIwXb"
      },
      "source": [
        "1.3.3 Задание\n",
        "Создать массив 3x3x3 со случайными значениями."
      ]
    },
    {
      "cell_type": "code",
      "execution_count": 47,
      "metadata": {
        "colab": {
          "base_uri": "https://localhost:8080/"
        },
        "id": "AUZVZ2ZlJGib",
        "outputId": "ff472a79-dd09-4312-f496-f369f2844c7e"
      },
      "outputs": [
        {
          "name": "stdout",
          "output_type": "stream",
          "text": [
            "[[[0.93518537 0.16575262 0.33007615]\n",
            "  [0.67356062 0.20877072 0.12552696]\n",
            "  [0.46356806 0.0114028  0.42765758]]\n",
            "\n",
            " [[0.20598641 0.86080051 0.42746161]\n",
            "  [0.7928761  0.60404995 0.98796395]\n",
            "  [0.81579903 0.15189326 0.91454856]]\n",
            "\n",
            " [[0.45893091 0.57360729 0.5477029 ]\n",
            "  [0.50783682 0.79865582 0.67011545]\n",
            "  [0.92052156 0.65966446 0.75757911]]]\n"
          ]
        }
      ],
      "source": [
        "import numpy as np\n",
        "#Решение\n",
        "x = np.random.random((3,3,3))\n",
        "print(x)"
      ]
    },
    {
      "cell_type": "markdown",
      "metadata": {
        "id": "PSJ2ajmcKScv"
      },
      "source": [
        "1.3.4 Задание\n",
        "Создать матрицу с 0 внутри, и 1 на границах.\n"
      ]
    },
    {
      "cell_type": "code",
      "execution_count": 49,
      "metadata": {
        "colab": {
          "base_uri": "https://localhost:8080/"
        },
        "id": "tcIpBs8JKXqB",
        "outputId": "cd3ff7e1-700b-4ce8-f336-dca9f81354a7"
      },
      "outputs": [
        {
          "name": "stdout",
          "output_type": "stream",
          "text": [
            "[[1 1 1 1 1 1 1 1 1 1 1 1 1 1 1 1 1 1 1 1]\n",
            " [1 0 0 0 0 0 0 0 0 0 0 0 0 0 0 0 0 0 0 1]\n",
            " [1 0 0 0 0 0 0 0 0 0 0 0 0 0 0 0 0 0 0 1]\n",
            " [1 0 0 0 0 0 0 0 0 0 0 0 0 0 0 0 0 0 0 1]\n",
            " [1 0 0 0 0 0 0 0 0 0 0 0 0 0 0 0 0 0 0 1]\n",
            " [1 0 0 0 0 0 0 0 0 0 0 0 0 0 0 0 0 0 0 1]\n",
            " [1 0 0 0 0 0 0 0 0 0 0 0 0 0 0 0 0 0 0 1]\n",
            " [1 0 0 0 0 0 0 0 0 0 0 0 0 0 0 0 0 0 0 1]\n",
            " [1 0 0 0 0 0 0 0 0 0 0 0 0 0 0 0 0 0 0 1]\n",
            " [1 0 0 0 0 0 0 0 0 0 0 0 0 0 0 0 0 0 0 1]\n",
            " [1 0 0 0 0 0 0 0 0 0 0 0 0 0 0 0 0 0 0 1]\n",
            " [1 0 0 0 0 0 0 0 0 0 0 0 0 0 0 0 0 0 0 1]\n",
            " [1 0 0 0 0 0 0 0 0 0 0 0 0 0 0 0 0 0 0 1]\n",
            " [1 0 0 0 0 0 0 0 0 0 0 0 0 0 0 0 0 0 0 1]\n",
            " [1 0 0 0 0 0 0 0 0 0 0 0 0 0 0 0 0 0 0 1]\n",
            " [1 0 0 0 0 0 0 0 0 0 0 0 0 0 0 0 0 0 0 1]\n",
            " [1 0 0 0 0 0 0 0 0 0 0 0 0 0 0 0 0 0 0 1]\n",
            " [1 0 0 0 0 0 0 0 0 0 0 0 0 0 0 0 0 0 0 1]\n",
            " [1 0 0 0 0 0 0 0 0 0 0 0 0 0 0 0 0 0 0 1]\n",
            " [1 1 1 1 1 1 1 1 1 1 1 1 1 1 1 1 1 1 1 1]]\n"
          ]
        }
      ],
      "source": [
        "import numpy as np\n",
        "#Решение\n",
        "n=int(input(\"Введите количество строк: \"))\n",
        "m=int(input(\"Введите количество столбцов: \"))\n",
        "x = np.ones((n,m)).astype(int)\n",
        "for i in range(1, n-1):\n",
        "    for j in range(1,m-1):\n",
        "        x[i][j]=0\n",
        "print(x)"
      ]
    },
    {
      "cell_type": "markdown",
      "metadata": {
        "id": "XRghSx28LCHj"
      },
      "source": [
        "1.3.5 Задание\n",
        "Создайте массив и отсортируйте его по убыванию."
      ]
    },
    {
      "cell_type": "code",
      "execution_count": 65,
      "metadata": {
        "colab": {
          "base_uri": "https://localhost:8080/"
        },
        "id": "BvenumzZLCXB",
        "outputId": "6a760f6c-e9da-48bb-bf79-eb842492606f"
      },
      "outputs": [
        {
          "name": "stdout",
          "output_type": "stream",
          "text": [
            "[98 96 93 90 89 88 88 84 78 77 70 68 66 66 64 63 63 62 62 61 60 59 55 54\n",
            " 54 49 49 45 43 43 39 38 36 36 35 35 34 30 29 29 29 29 27 26 22 22 18 15\n",
            " 14  9  6  4  3  2  1  0]\n"
          ]
        }
      ],
      "source": [
        "import numpy as np\n",
        "#Решение\n",
        "rng = np.random.default_rng()\n",
        "n=int(input(\"Введите количество элементов массива: \"))\n",
        "x = rng.integers(low =0, high =100, size = n)\n",
        "x=(np.sort(x))\n",
        "x=x[::-1]\n",
        "print(x)"
      ]
    },
    {
      "cell_type": "markdown",
      "metadata": {
        "id": "h_H_Ll6ZLWMM"
      },
      "source": [
        "1.3.6 Задание\n",
        "Создайте матрицу, выведите ее форму, размер и размерность."
      ]
    },
    {
      "cell_type": "code",
      "execution_count": 4,
      "metadata": {
        "colab": {
          "base_uri": "https://localhost:8080/"
        },
        "id": "aCxGzu5-LWb5",
        "outputId": "ff2fe7d9-4c72-4db1-ea4a-7b122166b224"
      },
      "outputs": [
        {
          "name": "stdout",
          "output_type": "stream",
          "text": [
            "[[16 70 83 ... 59 39 18]\n",
            " [23 52 72 ... 21 95  8]\n",
            " [69 54 86 ...  3 76 34]\n",
            " ...\n",
            " [78 72 77 ... 12 81 66]\n",
            " [93 33 90 ... 44 29 52]\n",
            " [71 12 49 ... 82 22  6]]\n",
            "Форма:  (32, 34)\n",
            "Размер:  1088\n",
            "Размерность:  2\n"
          ]
        }
      ],
      "source": [
        "import numpy as np\n",
        "#Решение\n",
        "rng = np.random.default_rng()\n",
        "n=int(input(\"Введите количество строк: \"))\n",
        "m=int(input(\"Введите количество столбцов: \"))\n",
        "x=rng.integers(low =0, high =100, size=(n,m))\n",
        "print(x)\n",
        "print(\"Форма: \",x.shape)\n",
        "print(\"Размер: \",x.size)\n",
        "print(\"Размерность: \",x.ndim)\n"
      ]
    },
    {
      "cell_type": "markdown",
      "metadata": {
        "id": "yGtCjF-SL0Jo"
      },
      "source": [
        "2.3.1 Задание\n",
        "Найдите евклидово расстояние между двумя Series (точками) a и b, не\n",
        "используя встроенную формулу.\n"
      ]
    },
    {
      "cell_type": "code",
      "execution_count": 3,
      "metadata": {
        "colab": {
          "base_uri": "https://localhost:8080/"
        },
        "id": "W2KywlbJL0SI",
        "outputId": "7d35cbfd-c2e3-4315-f34f-bbf4e5308312"
      },
      "outputs": [
        {
          "name": "stdout",
          "output_type": "stream",
          "text": [
            "Точка а:  [77 29 27]\n",
            "Точка b:  [16 95 77]\n",
            "Евклидово расстояние:  102.84454287904633\n"
          ]
        }
      ],
      "source": [
        "#Решение\n",
        "import pandas as pd\n",
        "import numpy as np\n",
        "rng = np.random.default_rng()\n",
        "n=int(input(\"Введите значение размерности пространства точек: \"))\n",
        "x = rng.integers(low =0, high =100, size=(n))\n",
        "x1 = pd.Series(x)\n",
        "y = rng.integers(low =0, high =100, size=(n))\n",
        "y1 = pd.Series(y)\n",
        "sum=0\n",
        "print(\"Точка а: \", x)\n",
        "print(\"Точка b: \", y)\n",
        "for i in range(n):\n",
        "    sum+=pow(x1[i]-y1[i],2)\n",
        "d = pow(sum,0.5)\n",
        "print(\"Евклидово расстояние: \", d)\n"
      ]
    },
    {
      "cell_type": "markdown",
      "metadata": {
        "id": "7Vf8APw_Nos4"
      },
      "source": [
        "2.3.2 Задание\n",
        "Найдите в Интернете ссылку на любой csv файл и сформируйте из него\n",
        "фрейм данных"
      ]
    },
    {
      "cell_type": "code",
      "execution_count": 1,
      "metadata": {
        "colab": {
          "base_uri": "https://localhost:8080/",
          "height": 485
        },
        "id": "FgVGzxlSNpkk",
        "outputId": "566dd8e6-b3e0-45a5-b477-d5fb37aff25e"
      },
      "outputs": [
        {
          "name": "stdout",
          "output_type": "stream",
          "text": [
            "   Minute (UTC)  Frontpage  r/Overwatch\n",
            "0         22:00      53178         8711\n",
            "1         22:01      52800         8814\n",
            "2         22:02      53095         8839\n",
            "3         22:03      52855         9315\n",
            "4         22:04      52579         9582\n",
            "..          ...        ...          ...\n",
            "56        22:56      47626         8338\n",
            "57        22:57      47546         7544\n",
            "58        22:58      47905         7420\n",
            "59        22:59      47873         7538\n",
            "60        23:00      47865         7415\n",
            "\n",
            "[61 rows x 3 columns]\n"
          ]
        }
      ],
      "source": [
        "import pandas as pd\n",
        "url = \"https://gist.githubusercontent.com/jtbg/322083acb5da973ac288842a33400204/raw/c1a3fd2008a72b4f5e987b3a037c521f6587fb84/overwatch.csv\"\n",
        "data = pd.read_csv(url)\n",
        "print(data)"
      ]
    },
    {
      "cell_type": "markdown",
      "metadata": {
        "id": "6Db07HywROTO"
      },
      "source": [
        "2.3.3 Задание\n",
        "Проделайте с получившемся из предыдущего задания фреймом данных\n",
        "те же действия, что и в примерах 2.2.5-2.2.7:\n",
        "2.2.5 Пронализировать характеристики фрейма данных.\n",
        "2.2.6 Выберите индивидуальные данные или срезы фрейма данных.\n",
        "2.2.7 Требуется отобрать строки фрейма данных на основе некоторого\n",
        "условия. Необходимо сформировать новый фрейм данных.\n",
        "\n"
      ]
    },
    {
      "cell_type": "code",
      "execution_count": 1,
      "metadata": {
        "colab": {
          "base_uri": "https://localhost:8080/",
          "height": 881
        },
        "id": "gKF0v8jaPOdu",
        "outputId": "50be0377-de59-4cf1-a51b-73dcb163817c"
      },
      "outputs": [
        {
          "name": "stderr",
          "output_type": "stream",
          "text": [
            "C:\\Users\\borga\\AppData\\Local\\Temp\\ipykernel_6116\\1531155567.py:1: DeprecationWarning: \n",
            "Pyarrow will become a required dependency of pandas in the next major release of pandas (pandas 3.0),\n",
            "(to allow more performant data types, such as the Arrow string type, and better interoperability with other libraries)\n",
            "but was not found to be installed on your system.\n",
            "If this would cause problems for you,\n",
            "please provide us feedback at https://github.com/pandas-dev/pandas/issues/54466\n",
            "        \n",
            "  import pandas as pd\n"
          ]
        },
        {
          "name": "stdout",
          "output_type": "stream",
          "text": [
            "Форма =  (61, 3)\n",
            "          Frontpage   r/Overwatch\n",
            "count     61.000000     61.000000\n",
            "mean   51495.311475  33263.229508\n",
            "std     1913.700434  32919.034247\n",
            "min    47496.000000   7415.000000\n",
            "25%    51283.000000   9537.000000\n",
            "50%    52380.000000  12503.000000\n",
            "75%    52800.000000  77682.000000\n",
            "max    53663.000000  91034.000000\n",
            "   Minute (UTC)  Frontpage  r/Overwatch\n",
            "30        22:30      52818        23893\n",
            "31        22:31      51557        36163\n",
            "32        22:32      51969        65807\n",
            "33        22:33      51662        77682\n",
            "34        22:34      51305        85313\n",
            "35        22:35      49883        82632\n",
            "36        22:36      50529        82197\n",
            "37        22:37      51158        85966\n",
            "38        22:38      51283        87187\n",
            "39        22:39      51888        88736\n"
          ]
        },
        {
          "data": {
            "text/html": [
              "<div>\n",
              "<style scoped>\n",
              "    .dataframe tbody tr th:only-of-type {\n",
              "        vertical-align: middle;\n",
              "    }\n",
              "\n",
              "    .dataframe tbody tr th {\n",
              "        vertical-align: top;\n",
              "    }\n",
              "\n",
              "    .dataframe thead th {\n",
              "        text-align: right;\n",
              "    }\n",
              "</style>\n",
              "<table border=\"1\" class=\"dataframe\">\n",
              "  <thead>\n",
              "    <tr style=\"text-align: right;\">\n",
              "      <th></th>\n",
              "      <th>Minute (UTC)</th>\n",
              "      <th>Frontpage</th>\n",
              "      <th>r/Overwatch</th>\n",
              "    </tr>\n",
              "  </thead>\n",
              "  <tbody>\n",
              "    <tr>\n",
              "      <th>19</th>\n",
              "      <td>22:19</td>\n",
              "      <td>52491</td>\n",
              "      <td>12040</td>\n",
              "    </tr>\n",
              "    <tr>\n",
              "      <th>20</th>\n",
              "      <td>22:20</td>\n",
              "      <td>52645</td>\n",
              "      <td>12503</td>\n",
              "    </tr>\n",
              "    <tr>\n",
              "      <th>21</th>\n",
              "      <td>22:21</td>\n",
              "      <td>53147</td>\n",
              "      <td>12456</td>\n",
              "    </tr>\n",
              "    <tr>\n",
              "      <th>22</th>\n",
              "      <td>22:22</td>\n",
              "      <td>52380</td>\n",
              "      <td>13204</td>\n",
              "    </tr>\n",
              "    <tr>\n",
              "      <th>23</th>\n",
              "      <td>22:23</td>\n",
              "      <td>52400</td>\n",
              "      <td>13696</td>\n",
              "    </tr>\n",
              "    <tr>\n",
              "      <th>24</th>\n",
              "      <td>22:24</td>\n",
              "      <td>52438</td>\n",
              "      <td>14430</td>\n",
              "    </tr>\n",
              "    <tr>\n",
              "      <th>25</th>\n",
              "      <td>22:25</td>\n",
              "      <td>52856</td>\n",
              "      <td>14745</td>\n",
              "    </tr>\n",
              "    <tr>\n",
              "      <th>26</th>\n",
              "      <td>22:26</td>\n",
              "      <td>53158</td>\n",
              "      <td>16099</td>\n",
              "    </tr>\n",
              "    <tr>\n",
              "      <th>27</th>\n",
              "      <td>22:27</td>\n",
              "      <td>52942</td>\n",
              "      <td>17756</td>\n",
              "    </tr>\n",
              "    <tr>\n",
              "      <th>28</th>\n",
              "      <td>22:28</td>\n",
              "      <td>53557</td>\n",
              "      <td>19771</td>\n",
              "    </tr>\n",
              "    <tr>\n",
              "      <th>29</th>\n",
              "      <td>22:29</td>\n",
              "      <td>52922</td>\n",
              "      <td>23530</td>\n",
              "    </tr>\n",
              "    <tr>\n",
              "      <th>30</th>\n",
              "      <td>22:30</td>\n",
              "      <td>52818</td>\n",
              "      <td>23893</td>\n",
              "    </tr>\n",
              "    <tr>\n",
              "      <th>31</th>\n",
              "      <td>22:31</td>\n",
              "      <td>51557</td>\n",
              "      <td>36163</td>\n",
              "    </tr>\n",
              "    <tr>\n",
              "      <th>32</th>\n",
              "      <td>22:32</td>\n",
              "      <td>51969</td>\n",
              "      <td>65807</td>\n",
              "    </tr>\n",
              "    <tr>\n",
              "      <th>33</th>\n",
              "      <td>22:33</td>\n",
              "      <td>51662</td>\n",
              "      <td>77682</td>\n",
              "    </tr>\n",
              "    <tr>\n",
              "      <th>34</th>\n",
              "      <td>22:34</td>\n",
              "      <td>51305</td>\n",
              "      <td>85313</td>\n",
              "    </tr>\n",
              "    <tr>\n",
              "      <th>35</th>\n",
              "      <td>22:35</td>\n",
              "      <td>49883</td>\n",
              "      <td>82632</td>\n",
              "    </tr>\n",
              "    <tr>\n",
              "      <th>36</th>\n",
              "      <td>22:36</td>\n",
              "      <td>50529</td>\n",
              "      <td>82197</td>\n",
              "    </tr>\n",
              "    <tr>\n",
              "      <th>37</th>\n",
              "      <td>22:37</td>\n",
              "      <td>51158</td>\n",
              "      <td>85966</td>\n",
              "    </tr>\n",
              "    <tr>\n",
              "      <th>38</th>\n",
              "      <td>22:38</td>\n",
              "      <td>51283</td>\n",
              "      <td>87187</td>\n",
              "    </tr>\n",
              "    <tr>\n",
              "      <th>39</th>\n",
              "      <td>22:39</td>\n",
              "      <td>51888</td>\n",
              "      <td>88736</td>\n",
              "    </tr>\n",
              "    <tr>\n",
              "      <th>40</th>\n",
              "      <td>22:40</td>\n",
              "      <td>51835</td>\n",
              "      <td>90549</td>\n",
              "    </tr>\n",
              "    <tr>\n",
              "      <th>41</th>\n",
              "      <td>22:41</td>\n",
              "      <td>52373</td>\n",
              "      <td>91034</td>\n",
              "    </tr>\n",
              "    <tr>\n",
              "      <th>42</th>\n",
              "      <td>22:42</td>\n",
              "      <td>52746</td>\n",
              "      <td>88255</td>\n",
              "    </tr>\n",
              "    <tr>\n",
              "      <th>43</th>\n",
              "      <td>22:43</td>\n",
              "      <td>53446</td>\n",
              "      <td>85105</td>\n",
              "    </tr>\n",
              "    <tr>\n",
              "      <th>44</th>\n",
              "      <td>22:44</td>\n",
              "      <td>53663</td>\n",
              "      <td>84173</td>\n",
              "    </tr>\n",
              "    <tr>\n",
              "      <th>45</th>\n",
              "      <td>22:45</td>\n",
              "      <td>52525</td>\n",
              "      <td>83635</td>\n",
              "    </tr>\n",
              "    <tr>\n",
              "      <th>46</th>\n",
              "      <td>22:46</td>\n",
              "      <td>52386</td>\n",
              "      <td>85273</td>\n",
              "    </tr>\n",
              "    <tr>\n",
              "      <th>47</th>\n",
              "      <td>22:47</td>\n",
              "      <td>51321</td>\n",
              "      <td>84555</td>\n",
              "    </tr>\n",
              "    <tr>\n",
              "      <th>48</th>\n",
              "      <td>22:48</td>\n",
              "      <td>52397</td>\n",
              "      <td>85635</td>\n",
              "    </tr>\n",
              "    <tr>\n",
              "      <th>49</th>\n",
              "      <td>22:49</td>\n",
              "      <td>49276</td>\n",
              "      <td>52648</td>\n",
              "    </tr>\n",
              "    <tr>\n",
              "      <th>50</th>\n",
              "      <td>22:50</td>\n",
              "      <td>48158</td>\n",
              "      <td>27541</td>\n",
              "    </tr>\n",
              "    <tr>\n",
              "      <th>51</th>\n",
              "      <td>22:51</td>\n",
              "      <td>48158</td>\n",
              "      <td>16711</td>\n",
              "    </tr>\n",
              "    <tr>\n",
              "      <th>52</th>\n",
              "      <td>22:52</td>\n",
              "      <td>47948</td>\n",
              "      <td>12412</td>\n",
              "    </tr>\n",
              "  </tbody>\n",
              "</table>\n",
              "</div>"
            ],
            "text/plain": [
              "   Minute (UTC)  Frontpage  r/Overwatch\n",
              "19        22:19      52491        12040\n",
              "20        22:20      52645        12503\n",
              "21        22:21      53147        12456\n",
              "22        22:22      52380        13204\n",
              "23        22:23      52400        13696\n",
              "24        22:24      52438        14430\n",
              "25        22:25      52856        14745\n",
              "26        22:26      53158        16099\n",
              "27        22:27      52942        17756\n",
              "28        22:28      53557        19771\n",
              "29        22:29      52922        23530\n",
              "30        22:30      52818        23893\n",
              "31        22:31      51557        36163\n",
              "32        22:32      51969        65807\n",
              "33        22:33      51662        77682\n",
              "34        22:34      51305        85313\n",
              "35        22:35      49883        82632\n",
              "36        22:36      50529        82197\n",
              "37        22:37      51158        85966\n",
              "38        22:38      51283        87187\n",
              "39        22:39      51888        88736\n",
              "40        22:40      51835        90549\n",
              "41        22:41      52373        91034\n",
              "42        22:42      52746        88255\n",
              "43        22:43      53446        85105\n",
              "44        22:44      53663        84173\n",
              "45        22:45      52525        83635\n",
              "46        22:46      52386        85273\n",
              "47        22:47      51321        84555\n",
              "48        22:48      52397        85635\n",
              "49        22:49      49276        52648\n",
              "50        22:50      48158        27541\n",
              "51        22:51      48158        16711\n",
              "52        22:52      47948        12412"
            ]
          },
          "execution_count": 1,
          "metadata": {},
          "output_type": "execute_result"
        }
      ],
      "source": [
        "import pandas as pd\n",
        "url = \"https://gist.githubusercontent.com/jtbg/322083acb5da973ac288842a33400204/raw/c1a3fd2008a72b4f5e987b3a037c521f6587fb84/overwatch.csv\"\n",
        "data = pd.read_csv(url)\n",
        "print(\"Форма = \",data.shape)\n",
        "print(data.describe())\n",
        "print(data.iloc[30:40])\n",
        "data[data['r/Overwatch']>12000].head(100)"
      ]
    },
    {
      "cell_type": "markdown",
      "metadata": {
        "id": "7shcMnK4YSI2"
      },
      "source": [
        "3.3.2 Задание\n",
        "Загрузить фрейм данных по ссылке:\n",
        "https://raw.githubusercontent.com/akmand/datasets/master/iris.csv.\n",
        "Необходимо выполнить нормализацию первого числового признака\n",
        "(sepal_length_cm) с использованием минимаксного преобразования, а\n",
        "второго (sepal_width_cm) с задействованием z-масштабирования.\n"
      ]
    },
    {
      "cell_type": "code",
      "execution_count": 65,
      "metadata": {
        "colab": {
          "base_uri": "https://localhost:8080/",
          "height": 448
        },
        "id": "Vt-DDkS6YSi2",
        "outputId": "42904c21-ca4b-4928-e8ba-70bc549d9cb4"
      },
      "outputs": [
        {
          "name": "stdout",
          "output_type": "stream",
          "text": [
            "3.0540000000000007 0.45074765100671216\n",
            "sepal_width_cm    3.054\n",
            "dtype: float64 sepal_width_cm    0.433594\n",
            "dtype: float64\n"
          ]
        },
        {
          "data": {
            "text/html": [
              "<div>\n",
              "<style scoped>\n",
              "    .dataframe tbody tr th:only-of-type {\n",
              "        vertical-align: middle;\n",
              "    }\n",
              "\n",
              "    .dataframe tbody tr th {\n",
              "        vertical-align: top;\n",
              "    }\n",
              "\n",
              "    .dataframe thead th {\n",
              "        text-align: right;\n",
              "    }\n",
              "</style>\n",
              "<table border=\"1\" class=\"dataframe\">\n",
              "  <thead>\n",
              "    <tr style=\"text-align: right;\">\n",
              "      <th></th>\n",
              "      <th>sepal_length_cm</th>\n",
              "      <th>sepal_width_cm</th>\n",
              "      <th>petal_length_cm</th>\n",
              "      <th>petal_width_cm</th>\n",
              "      <th>species</th>\n",
              "    </tr>\n",
              "  </thead>\n",
              "  <tbody>\n",
              "    <tr>\n",
              "      <th>0</th>\n",
              "      <td>0.222222</td>\n",
              "      <td>1.028611</td>\n",
              "      <td>1.4</td>\n",
              "      <td>0.2</td>\n",
              "      <td>setosa</td>\n",
              "    </tr>\n",
              "    <tr>\n",
              "      <th>1</th>\n",
              "      <td>0.166667</td>\n",
              "      <td>-0.124540</td>\n",
              "      <td>1.4</td>\n",
              "      <td>0.2</td>\n",
              "      <td>setosa</td>\n",
              "    </tr>\n",
              "    <tr>\n",
              "      <th>2</th>\n",
              "      <td>0.111111</td>\n",
              "      <td>0.336720</td>\n",
              "      <td>1.3</td>\n",
              "      <td>0.2</td>\n",
              "      <td>setosa</td>\n",
              "    </tr>\n",
              "    <tr>\n",
              "      <th>3</th>\n",
              "      <td>0.083333</td>\n",
              "      <td>0.106090</td>\n",
              "      <td>1.5</td>\n",
              "      <td>0.2</td>\n",
              "      <td>setosa</td>\n",
              "    </tr>\n",
              "    <tr>\n",
              "      <th>4</th>\n",
              "      <td>0.194444</td>\n",
              "      <td>1.259242</td>\n",
              "      <td>1.4</td>\n",
              "      <td>0.2</td>\n",
              "      <td>setosa</td>\n",
              "    </tr>\n",
              "    <tr>\n",
              "      <th>...</th>\n",
              "      <td>...</td>\n",
              "      <td>...</td>\n",
              "      <td>...</td>\n",
              "      <td>...</td>\n",
              "      <td>...</td>\n",
              "    </tr>\n",
              "    <tr>\n",
              "      <th>145</th>\n",
              "      <td>0.666667</td>\n",
              "      <td>-0.124540</td>\n",
              "      <td>5.2</td>\n",
              "      <td>2.3</td>\n",
              "      <td>virginica</td>\n",
              "    </tr>\n",
              "    <tr>\n",
              "      <th>146</th>\n",
              "      <td>0.555556</td>\n",
              "      <td>-1.277692</td>\n",
              "      <td>5.0</td>\n",
              "      <td>1.9</td>\n",
              "      <td>virginica</td>\n",
              "    </tr>\n",
              "    <tr>\n",
              "      <th>147</th>\n",
              "      <td>0.611111</td>\n",
              "      <td>-0.124540</td>\n",
              "      <td>5.2</td>\n",
              "      <td>2.0</td>\n",
              "      <td>virginica</td>\n",
              "    </tr>\n",
              "    <tr>\n",
              "      <th>148</th>\n",
              "      <td>0.527778</td>\n",
              "      <td>0.797981</td>\n",
              "      <td>5.4</td>\n",
              "      <td>2.3</td>\n",
              "      <td>virginica</td>\n",
              "    </tr>\n",
              "    <tr>\n",
              "      <th>149</th>\n",
              "      <td>0.444444</td>\n",
              "      <td>-0.124540</td>\n",
              "      <td>5.1</td>\n",
              "      <td>1.8</td>\n",
              "      <td>virginica</td>\n",
              "    </tr>\n",
              "  </tbody>\n",
              "</table>\n",
              "<p>150 rows × 5 columns</p>\n",
              "</div>"
            ],
            "text/plain": [
              "     sepal_length_cm  sepal_width_cm  petal_length_cm  petal_width_cm  \\\n",
              "0           0.222222        1.028611              1.4             0.2   \n",
              "1           0.166667       -0.124540              1.4             0.2   \n",
              "2           0.111111        0.336720              1.3             0.2   \n",
              "3           0.083333        0.106090              1.5             0.2   \n",
              "4           0.194444        1.259242              1.4             0.2   \n",
              "..               ...             ...              ...             ...   \n",
              "145         0.666667       -0.124540              5.2             2.3   \n",
              "146         0.555556       -1.277692              5.0             1.9   \n",
              "147         0.611111       -0.124540              5.2             2.0   \n",
              "148         0.527778        0.797981              5.4             2.3   \n",
              "149         0.444444       -0.124540              5.1             1.8   \n",
              "\n",
              "       species  \n",
              "0       setosa  \n",
              "1       setosa  \n",
              "2       setosa  \n",
              "3       setosa  \n",
              "4       setosa  \n",
              "..         ...  \n",
              "145  virginica  \n",
              "146  virginica  \n",
              "147  virginica  \n",
              "148  virginica  \n",
              "149  virginica  \n",
              "\n",
              "[150 rows x 5 columns]"
            ]
          },
          "execution_count": 65,
          "metadata": {},
          "output_type": "execute_result"
        }
      ],
      "source": [
        "import pandas as pd\n",
        "import statistics\n",
        "import math\n",
        "from sklearn.preprocessing import MinMaxScaler\n",
        "url ='https://raw.githubusercontent.com/akmand/datasets/master/iris.csv'\n",
        "df = pd.read_csv(url)\n",
        "sred=sum(df['sepal_width_cm'])/df.shape[0] #Среднее арифметическое\n",
        "otkl= sum((int(x) - sred) ** 2 for x in df['sepal_width_cm']) / (df.shape[0] - 1) #Среднее отклонение\n",
        "min1=min(df['sepal_length_cm']) #Мин элемент\n",
        "max1=max(df['sepal_length_cm']) #Макс элемент\n",
        "#Scaler = MinMaxScaler()\n",
        "#df[['sepal_length_cm']]=Scaler.fit_transform(df[['sepal_length_cm']])\n",
        "#df\n",
        "df[['sepal_length_cm']]=(df[['sepal_length_cm']]-min1)/(max1-min1)\n",
        "#df[['sepal_width_cm']]=(df[['sepal_width_cm']]-df[['sepal_width_cm']].mean())/(df[['sepal_width_cm']].std())\n",
        "\n",
        "df[['sepal_width_cm']]=(df[['sepal_width_cm']]-sred)/(otkl)\n",
        "df"
      ]
    }
  ],
  "metadata": {
    "colab": {
      "provenance": []
    },
    "kernelspec": {
      "display_name": "Python 3",
      "name": "python3"
    },
    "language_info": {
      "codemirror_mode": {
        "name": "ipython",
        "version": 3
      },
      "file_extension": ".py",
      "mimetype": "text/x-python",
      "name": "python",
      "nbconvert_exporter": "python",
      "pygments_lexer": "ipython3",
      "version": "3.11.8"
    }
  },
  "nbformat": 4,
  "nbformat_minor": 0
}
